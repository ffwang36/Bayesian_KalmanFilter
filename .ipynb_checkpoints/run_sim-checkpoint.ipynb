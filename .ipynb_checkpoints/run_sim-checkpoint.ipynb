{
 "cells": [
  {
   "cell_type": "markdown",
   "metadata": {},
   "source": [
    "# Set up"
   ]
  },
  {
   "cell_type": "code",
   "execution_count": 1,
   "metadata": {},
   "outputs": [],
   "source": [
    "import numpy as np\n",
    "import math\n",
    "import matplotlib.pyplot as plt\n",
    "%matplotlib notebook"
   ]
  },
  {
   "cell_type": "markdown",
   "metadata": {},
   "source": [
    "# XTRUE.M"
   ]
  },
  {
   "cell_type": "markdown",
   "metadata": {},
   "source": [
    "Function __x_true__ simulates the true state of nature/process x and observations z, where\n",
    "\\begin{align}\n",
    "\\ x(k) &= F(k) x(k-1) + B(k) u(k) + G(k) v(k)\\\\\n",
    "\\ z(k) &= H(k) x(k) + D(k) w(k)\n",
    "\\end{align}\n",
    "\n",
    "In code:\n",
    "\\begin{align}\n",
    "\\ x(k) &= F(k) x(k-1) + B(k) u(k) + G(k) v(Q_k)\\\\\n",
    "\\ z(k) &= H(k) x(k) + D(k) w(R_k)\n",
    "\\end{align}\n"
   ]
  },
  {
   "cell_type": "code",
   "execution_count": 2,
   "metadata": {},
   "outputs": [],
   "source": [
    "def x_true(F, G, H, Q, R, x0, t_steps):\n",
    "    '''\n",
    "    % A function to compute true state-space history\n",
    "    % and true observations from a discrete-time\n",
    "    % model with no input. For use with a Kalman Filter\n",
    "    %\n",
    "    % Inputs: F   Xsize*Xsize state transition matrix\n",
    "    %         G   Xsize*Vsize state noise transition matrix\n",
    "    %         H   Zsize*Xsize observation matrix\n",
    "    %         Q   Vsize*Vsize process noise covariance matrix\n",
    "    %         R   Zsize*Zsize observation noise covariance matrix\n",
    "    %         x0  Xsize*1 initial state vector \n",
    "    %         t_steps, number of time-steps to be simulated\n",
    "    %\n",
    "    % Outputs: z  Zsize*t_steps Observation time history\n",
    "    %          x  Xsize*t_steps true state time history\n",
    "    ''' \n",
    "    # First check all matrix dimensions\n",
    "    [Rows,Cols] = F.shape\n",
    "    if Rows != Cols: raise Exception('F is non-square')\n",
    "        \n",
    "    [Xsize,nul]=x0.shape\n",
    "    if Xsize != Rows: raise Exception('x0 does not match dimension of F')\n",
    "        \n",
    "    [Rows,Vsize]=G.shape\n",
    "    if Xsize != Rows: raise Exception('G does not match dimension of F')\n",
    "        \n",
    "    [Rows,Cols]=Q.shape\n",
    "    if Rows != Cols: raise Exception('Q must be square')\n",
    "        \n",
    "    if Vsize != Rows: raise Exception('Q does not match dimension of G')\n",
    "        \n",
    "    [Zsize,Cols]=H.shape\n",
    "    if Cols != Xsize: raise Exception('H and Xsize do not match')\n",
    "        \n",
    "    [Rows,Cols]=R.shape\n",
    "    if Rows != Cols: raise Exception('R must be square')\n",
    "        \n",
    "    if Rows != Zsize: raise Exception('R must match Zsize of H')\n",
    "        \n",
    "   # fix up output matricies\n",
    "    x = np.zeros((Xsize, t_steps+1))\n",
    "    z = np.zeros((Zsize, t_steps+1))\n",
    "    \n",
    "    # get some gaussian noise - rand('normal')\n",
    "    v = math.sqrt(Q) * np.random.randn(Vsize, t_steps+1)\n",
    "    w = math.sqrt(R) * np.random.randn(Zsize, t_steps+1)\n",
    "    \n",
    "    # initial value\n",
    "    x0 = x[:,0].reshape(2,1)\n",
    "    \n",
    "    # now generate all the remaining states\n",
    "    for i in range(t_steps):\n",
    "        x[:, i+1] = np.dot(F, x[:,i]) + np.dot(G, v[:,i]) #Assuming no control inputs B and u\n",
    "        \n",
    "    # then all the observations\n",
    "    for i in range(1, t_steps+1):\n",
    "        z[:, i] = np.dot(H, x[:,i]) + w[:, i]\n",
    "        \n",
    "    return z, x"
   ]
  },
  {
   "cell_type": "markdown",
   "metadata": {},
   "source": [
    "# run_sim.m"
   ]
  },
  {
   "cell_type": "markdown",
   "metadata": {},
   "source": [
    "```javascript\n",
    "# continuous time state transition matrix\n",
    "A = np.array([[0, 1]\n",
    "            , [0, 0]])\n",
    "```"
   ]
  },
  {
   "cell_type": "markdown",
   "metadata": {},
   "source": [
    "```javascript\n",
    "# continuous time input model\n",
    "B = np.array([[0]\n",
    "            , [1]])\n",
    "```"
   ]
  },
  {
   "cell_type": "code",
   "execution_count": 3,
   "metadata": {},
   "outputs": [],
   "source": [
    "# observation model\n",
    "H = np.array([[1, 0]])"
   ]
  },
  {
   "cell_type": "code",
   "execution_count": 4,
   "metadata": {},
   "outputs": [],
   "source": [
    "# continuous time noise variance, must be square\n",
    "Q = np.array([[0.01]]) "
   ]
  },
  {
   "cell_type": "code",
   "execution_count": 5,
   "metadata": {},
   "outputs": [],
   "source": [
    "# observation noise variance, must be square\n",
    "R = np.array([[1]])"
   ]
  },
  {
   "cell_type": "code",
   "execution_count": 6,
   "metadata": {},
   "outputs": [],
   "source": [
    "# initial conditions\n",
    "x0 = np.array([[0]\n",
    "            ,[0]])"
   ]
  },
  {
   "cell_type": "code",
   "execution_count": 7,
   "metadata": {},
   "outputs": [],
   "source": [
    "# sample period\n",
    "dt = 1.0"
   ]
  },
  {
   "cell_type": "code",
   "execution_count": 8,
   "metadata": {},
   "outputs": [],
   "source": [
    "# number of time-steps to simulate\n",
    "t_steps = 500"
   ]
  },
  {
   "cell_type": "code",
   "execution_count": 9,
   "metadata": {},
   "outputs": [],
   "source": [
    "time = range(t_steps+1)"
   ]
  },
  {
   "cell_type": "code",
   "execution_count": 10,
   "metadata": {},
   "outputs": [],
   "source": [
    "#Transform a continuous to a discrete state-space system.\n",
    "F = np.array([[1, dt]\n",
    "            , [0, 1]])\n",
    "\n",
    "G = np.array([[dt**2/2]\n",
    "            , [dt]])"
   ]
  },
  {
   "cell_type": "markdown",
   "metadata": {},
   "source": [
    "<div class=\"alert alert-block alert-warning\">\n",
    "<b>Note from Hugh:</b> For this problem, just replace c2d with direct digital results: F=[1,dt; 0, 1], G=[dt^2/2; dt] (this is what you get if you integrate A=[0, 1; 0, 0] and B=[1, 0] over the time interval dt.).\n",
    "</div>"
   ]
  },
  {
   "cell_type": "code",
   "execution_count": 11,
   "metadata": {},
   "outputs": [],
   "source": [
    "# Run simulation\n",
    "z, x = x_true(F, G, H, Q, R, x0, t_steps)"
   ]
  },
  {
   "cell_type": "markdown",
   "metadata": {},
   "source": [
    "# rplots.m"
   ]
  },
  {
   "cell_type": "code",
   "execution_count": 12,
   "metadata": {},
   "outputs": [
    {
     "data": {
      "text/plain": [
       "Text(0.5, 1.0, 'True Position')"
      ]
     },
     "execution_count": 12,
     "metadata": {},
     "output_type": "execute_result"
    },
    {
     "data": {
      "image/png": "[encoded data removed]",
      "text/plain": [
       "<Figure size 432x288 with 1 Axes>"
      ]
     },
     "metadata": {
      "needs_background": "light"
     },
     "output_type": "display_data"
    }
   ],
   "source": [
    "#Figure 1\n",
    "plt.figure()\n",
    "plt.plot(time, x[0,:])\n",
    "\n",
    "# Set label axis\n",
    "plt.xlabel('Time (Seconds)')\n",
    "plt.ylabel('Position (Meters)')\n",
    "plt.title('True Position')"
   ]
  },
  {
   "cell_type": "code",
   "execution_count": 13,
   "metadata": {},
   "outputs": [
    {
     "data": {
      "text/plain": [
       "Text(0.5, 1.0, 'True Velocity')"
      ]
     },
     "execution_count": 13,
     "metadata": {},
     "output_type": "execute_result"
    },
    {
     "data": {
      "image/png": "[encoded data removed]",
      "text/plain": [
       "<Figure size 432x288 with 1 Axes>"
      ]
     },
     "metadata": {
      "needs_background": "light"
     },
     "output_type": "display_data"
    }
   ],
   "source": [
    "#Figure 2\n",
    "plt.figure()\n",
    "plt.plot(time, x[1,:])\n",
    "\n",
    "# Set label axis\n",
    "plt.xlabel('Time (Seconds)')\n",
    "plt.ylabel('Velocity (Meters/Second)')\n",
    "plt.title('True Velocity')"
   ]
  },
  {
   "cell_type": "code",
   "execution_count": 14,
   "metadata": {
    "scrolled": false
   },
   "outputs": [
    {
     "data": {
      "text/plain": [
       "Text(0.5, 1.0, 'Position Observations')"
      ]
     },
     "execution_count": 14,
     "metadata": {},
     "output_type": "execute_result"
    },
    {
     "data": {
      "image/png": "[encoded data removed]",
      "text/plain": [
       "<Figure size 432x288 with 1 Axes>"
      ]
     },
     "metadata": {
      "needs_background": "light"
     },
     "output_type": "display_data"
    }
   ],
   "source": [
    "#Figure 3\n",
    "plt.figure()\n",
    "plt.plot(time, z[0,:])\n",
    "\n",
    "# Set label axis\n",
    "plt.xlabel('Time (Seconds)')\n",
    "plt.ylabel('Position Measurement (Meters)')\n",
    "plt.title('Position Observations')"
   ]
  },
  {
   "cell_type": "code",
   "execution_count": 15,
   "metadata": {
    "scrolled": false
   },
   "outputs": [
    {
     "data": {
      "image/png": "[encoded data removed]",
      "text/plain": [
       "<Figure size 432x288 with 2 Axes>"
      ]
     },
     "metadata": {
      "needs_background": "light"
     },
     "output_type": "display_data"
    }
   ],
   "source": [
    "# Check true target track and position observations\n",
    "fig, ax1 = plt.subplots()\n",
    "\n",
    "color = 'tab:red'\n",
    "ax1.set_xlabel('Time (Seconds)')\n",
    "ax1.set_ylabel('True Position', color=color)\n",
    "ax1.plot(time, x[0,:], color=color)\n",
    "ax1.tick_params(axis='y', labelcolor=color)\n",
    "\n",
    "# instantiate a second axes that shares the same x-axis and y-axis\n",
    "ax2 = ax1.twinx()  \n",
    "ax1.get_shared_y_axes().join(ax1, ax2)\n",
    "\n",
    "color = 'tab:blue'\n",
    "ax2.set_ylabel('Position Observations', color=color)  \n",
    "ax2.plot(time, z[0,:], color=color, linestyle = '--')\n",
    "ax2.tick_params(axis='y', labelcolor=color)\n",
    "    \n",
    "fig.tight_layout()  # otherwise the right y-label is slightly clipped\n",
    "plt.show()"
   ]
  },
  {
   "cell_type": "markdown",
   "metadata": {},
   "source": [
    "# run_filt.m"
   ]
  },
  {
   "cell_type": "markdown",
   "metadata": {},
   "source": [
    "# Covars.m"
   ]
  },
  {
   "cell_type": "markdown",
   "metadata": {},
   "source": [
    "__Prediction__:A prediction ˆx(k | k − 1) of the state at time k and its covariance P(k | k − 1)\n",
    "is computed according to:\n",
    "    \n",
    "\\begin{align}\n",
    "\\ \\hat{x}(k|k-1) &= F(k) \\hat{x}(k-1|k-1) + B(k) u(k)\\\\\n",
    "\\ P(k|k-1) &= F(k) P(k-1|k-1) \\mathbf{F}^\\intercal (k) + G(k) Q(k) \\mathbf{G}^\\intercal (k)\n",
    "\\end{align}\n",
    "\n",
    "__Update:__\n",
    "\\begin{align}\n",
    "\\ P(k|k) = P(k|k-1) - W(k) S(k) \\mathbf{W}^\\intercal (k)\n",
    "\\end{align}\n",
    "\n",
    "__Innovation covariance:__\n",
    "\\begin{align}\n",
    "\\ S(k) = R(k) + H(k) P(k|k-1) H(k)\n",
    "\\end{align}\n",
    "\n",
    "__Gain matrix:__\n",
    "\\begin{align}\n",
    "\\ W(k) = P(k|k-1) + H(k) S^{-1}(k)\n",
    "\\end{align}\n",
    "\n",
    "In code:\n",
    "* __Prediction__: lPpred = 𝑃(𝑘|𝑘−1)\n",
    "* __Innovation covariance__: lS = 𝑆(𝑘)\n",
    "* __Gain matrix__: lW = 𝑊(𝑘)\n",
    "* __Estimate/update__: lPest = 𝑃(𝑘|𝑘)"
   ]
  },
  {
   "cell_type": "code",
   "execution_count": 25,
   "metadata": {},
   "outputs": [],
   "source": [
    "def covars(F, G, H, Q, R, P0, t_steps):\n",
    "    '''\n",
    "    % A function to compute gain and covariance history for a Kalman Filter\n",
    "    %\n",
    "    % Inputs: F   Xsize*Xsize state transition matrix\n",
    "    %         G   Xsize*Vsize state noise transition matrix\n",
    "    %         H   Zsize*Xsize observation matrix\n",
    "    %         Q   Vsize*Vsize process noise covariance matrix\n",
    "    %         R   Zsize*Zsize observation noise covariance matrix\n",
    "    %         P0  Xsize*Xsize initial state covariance\n",
    "    %         t_steps, number of time-steps to be simulated\n",
    "    %\n",
    "    % Outputs: W     t_steps*(Xsize*Zsize): Gain history\n",
    "    %          Pest  t_steps*(Xsize*Xsize): Estimate Covariance history\n",
    "    %          Ppred t_steps*(Xsize*Xsize): Prediction Covariance history\n",
    "    %          S     t_steps*(Xsize*Xsize): Innovation Covariance history\n",
    "    ''' \n",
    "    # First check all matrix dimensions\n",
    "    [Xsize, Cols] = P0.shape\n",
    "    if Xsize != Cols: raise Exception('P0 must be square')\n",
    "    \n",
    "    [Rows,Cols] = F.shape\n",
    "    if Rows != Cols: raise Exception('F is non-square')\n",
    "    \n",
    "    if Rows != Xsize: raise Exception('F state dimension does not match Xsize')\n",
    "        \n",
    "    [Rows,Vsize]=G.shape\n",
    "    if Xsize != Rows: raise Exception('G does not match dimension of F')\n",
    "        \n",
    "    [Rows,Cols]=Q.shape\n",
    "    if Rows != Cols: raise Exception('Q must be square')\n",
    "        \n",
    "    if Vsize != Rows: raise Exception('Q does not match dimension of G')\n",
    "        \n",
    "    [Zsize,Cols]=H.shape\n",
    "    if Cols != Xsize: raise Exception('H and Xsize do not match')\n",
    "        \n",
    "    [Rows,Cols]=R.shape\n",
    "    if Rows != Cols: raise Exception('R must be square')\n",
    "        \n",
    "    if Rows != Zsize: raise Exception('R must match Zsize of H')\n",
    " \n",
    "    # fix up output matricies\n",
    "    W = np.zeros((t_steps, Xsize * Zsize))\n",
    "    Pest = np.zeros((t_steps, Xsize * Xsize))\n",
    "    Ppred = np.zeros((t_steps, Xsize * Xsize))\n",
    "    S = np.zeros((t_steps, Zsize * Zsize))\n",
    "    \n",
    "    # initial value\n",
    "    lPest = P0\n",
    "    \n",
    "   # ready to go !\n",
    "    for i in range(1, t_steps): \n",
    "        # first the actual calculation in local variables\n",
    "        lPpred = np.linalg.multi_dot([F, lPest, F.T]) + np.linalg.multi_dot([G, Q, G.T])\n",
    "        lS = np.linalg.multi_dot([H, lPpred, H.T]) + R\n",
    "        lW = np.linalg.multi_dot([lPpred, H.T, np.linalg.inv(lS)]) \n",
    "        lPest = lPpred - np.linalg.multi_dot([lW, lS, lW.T])\n",
    "        # then record the results in columns of output states\n",
    "        Pest[i, :] = lPest.reshape(1, Xsize*Xsize)\n",
    "        Ppred[i, :] = lPpred.reshape(1, Xsize*Xsize)\n",
    "        W[i, :] = lW.reshape(1, Xsize*Zsize)\n",
    "        S[i, :]=lS.reshape(1, Zsize*Zsize)\n",
    "        \n",
    "    return W, Pest, Ppred, S"
   ]
  },
  {
   "cell_type": "code",
   "execution_count": 23,
   "metadata": {},
   "outputs": [],
   "source": [
    "# assumes run_sim has been run at least once\n",
    "Q = Q * 10\n",
    "R = R * 10\n",
    "\n",
    "#initial covariance required, P0 has to be of the same dimension as F\n",
    "P0 = np.ones((2,2)) * 10 * Q \n",
    "x0 = np.array([[0]\n",
    "             , [0]])"
   ]
  },
  {
   "cell_type": "code",
   "execution_count": 26,
   "metadata": {},
   "outputs": [],
   "source": [
    "[W,Pest,Ppred,S] = covars(F,G,H,Q,R,P0,t_steps)"
   ]
  },
  {
   "cell_type": "markdown",
   "metadata": {},
   "source": [
    "# XESTIM.m"
   ]
  },
  {
   "cell_type": "code",
   "execution_count": 53,
   "metadata": {},
   "outputs": [],
   "source": [
    "def xestim(F, G, H, Q, R, x0, P0, z):\n",
    "    '''\n",
    "    % Your basic linear Kalman filter. Calls COVARS for gain history.\n",
    "    % Inputs: F   Xsize*Xsize state transition matrix\n",
    "    %         G   Xsize*Vsize state noise transition matrix\n",
    "    %         H   Zsize*Xsize observation matrix\n",
    "    %         Q   Vsize*Vsize process noise covariance matrix\n",
    "    %         R   Zsize*Zsize observation noise covariance matrix\n",
    "    %         x0  Xsize*1 initial state vector \n",
    "    %         P0  Xsize*Xsize initial state covariance matrix\n",
    "    %         z   Zsize*t_steps observation sequence to be filtered\n",
    "    %\n",
    "    % Outputs: xest  Xsize*t_steps estimated state time history\n",
    "    %          xpred Xsize*t_steps predicted state time history\n",
    "    %          innov Zsize*t_steps innovation time history\n",
    "    ''' \n",
    "    # First check all matrix dimensions\n",
    "    [Rows,Cols] = F.shape\n",
    "    if Rows != Cols: raise Exception('F is non-square')\n",
    "        \n",
    "    [Xsize,nul]=x0.shape\n",
    "    if Xsize != Rows: raise Exception('x0 does not match dimension of F')\n",
    "        \n",
    "    [Rows,Vsize]=G.shape\n",
    "    if Xsize != Rows: raise Exception('G does not match dimension of F')\n",
    "        \n",
    "    [Rows,Cols]=Q.shape\n",
    "    if Rows != Cols: raise Exception('Q must be square')\n",
    "        \n",
    "    if Vsize != Rows: raise Exception('Q does not match dimension of G')\n",
    "        \n",
    "    [Zsize,Cols]=H.shape\n",
    "    if Cols != Xsize: raise Exception('H and Xsize do not match')\n",
    "        \n",
    "    [Rows,Cols]=R.shape\n",
    "    if Rows != Cols: raise Exception('R must be square')\n",
    "        \n",
    "    if Rows != Zsize: raise Exception('R must match Zsize of H')\n",
    "        \n",
    "    [Rows,Cols]=P0.shape\n",
    "    if Rows != Cols: raise Exception('P0 must be Square')\n",
    "\n",
    "    if Rows != Xsize: raise Exception('P0 must have dimensions Xsize')\n",
    "    \n",
    "    [Rows,t_steps]=z.shape\n",
    "    if Rows != Zsize: raise Exception('Observation Sequence must have Zsize rows')\n",
    "        \n",
    "   # fix up output matricies\n",
    "    xest = np.zeros((Xsize, t_steps))\n",
    "    xpred = np.zeros((Xsize, t_steps))\n",
    "    innov = np.zeros((Zsize, t_steps))\n",
    "    \n",
    "   # compute all the neccesary gain matricies a priori\n",
    "    W = covars(F,G,H,Q,R,P0,t_steps)[0]\n",
    "    \n",
    "    # initial prediction and estimate (done seperately because of X0)\n",
    "    lW = W[1,:].reshape(Xsize,Zsize)\n",
    "    xpred[:,1, None] = np.dot(F, x0)\n",
    "    innov[:,1, None] = z[:,1] - np.dot(H, xpred[:,1])\n",
    "    xest[:,1] = xpred[:,1] + np.dot(lW, innov[:,1])\n",
    "    \n",
    "    # now generate all the remaining estimates\n",
    "    for i in range(2, t_steps):\n",
    "        xpred[:,i] = np.dot(F, xest[:,i-1])\n",
    "        innov[:,i] = z[:,i] - np.dot(H, xpred[:,i])\n",
    "        lW = W[i,:].reshape(Xsize,Zsize)\n",
    "        xest[:,i] = xpred[:,i] + np.dot(lW, innov[:,i])\n",
    "        \n",
    "    return xest,xpred,innov"
   ]
  },
  {
   "cell_type": "code",
   "execution_count": 54,
   "metadata": {},
   "outputs": [],
   "source": [
    "[xest,xpred,xinnov] = xestim(F,G,H,Q,R,x0,P0,z)"
   ]
  }
 ],
 "metadata": {
  "kernelspec": {
   "display_name": "Python 3",
   "language": "python",
   "name": "python3"
  },
  "language_info": {
   "codemirror_mode": {
    "name": "ipython",
    "version": 3
   },
   "file_extension": ".py",
   "mimetype": "text/x-python",
   "name": "python",
   "nbconvert_exporter": "python",
   "pygments_lexer": "ipython3",
   "version": "3.7.4"
  }
 },
 "nbformat": 4,
 "nbformat_minor": 2
}
