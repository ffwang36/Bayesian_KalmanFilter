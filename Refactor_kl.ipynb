{
 "cells": [
  {
   "cell_type": "code",
   "execution_count": 17,
   "metadata": {
    "scrolled": false
   },
   "outputs": [],
   "source": [
    "import numpy as np\n",
    "from math import sqrt\n",
    "import matplotlib.pyplot as plt\n",
    "from typing import Tuple\n",
    "%matplotlib notebook\n",
    "\n",
    "import import_ipynb\n",
    "from Refactor_simulate import *"
   ]
  },
  {
   "cell_type": "markdown",
   "metadata": {},
   "source": [
    "## To do\n",
    "1. update matrix multiplication to @\n",
    "2. typing\n",
    "3. docstring\n",
    "4. exception using assert\n",
    "5. convert to classes"
   ]
  },
  {
   "cell_type": "markdown",
   "metadata": {},
   "source": [
    "## Refactor code for Kalman Filter"
   ]
  },
  {
   "cell_type": "code",
   "execution_count": 9,
   "metadata": {},
   "outputs": [],
   "source": [
    "def covars(F: np.ndarray, G:np.ndarray, H:np.ndarray, Q:np.ndarray, R:np.ndarray, P0:np.ndarray, t_steps:int) -> Tuple[np.ndarray, np.ndarray, np.ndarray, np.ndarray]:\n",
    "    '''\n",
    "    A function to compute gain and covariance history for a Kalman Filter\n",
    "    \n",
    "    Args:\n",
    "        F (numpy.ndarray):  Xsize*Xsize state transition matrix\n",
    "        G (numpy.ndarray):  Xsize*Vsize state noise transition matrix\n",
    "        H (numpy.ndarray):  Zsize*Xsize observation matrix\n",
    "        Q (numpy.ndarray):  Vsize*Vsize process noise covariance matrix\n",
    "        R (numpy.ndarray):  Zsize*Zsize observation noise covariance matrix\n",
    "        P0 (numpy.ndarray): Xsize*Xsize initial state covariance\n",
    "        t_steps (int):      number of time-steps to be simulated\n",
    "        \n",
    "    Returns:\n",
    "        X (numpy.ndarray):     t_steps*(Xsize*Zsize): Gain history\n",
    "        Pest (numpy.ndarray):  t_steps*(Xsize*Xsize): Estimate Covariance history\n",
    "        Ppred (numpy.ndarray): t_steps*(Xsize*Xsize): Prediction Covariance history\n",
    "        S (numpy.ndarray):     t_steps*(Xsize*Xsize): Innovation Covariance history\n",
    "    ''' \n",
    "\n",
    "    # First check all matrix dimensions\n",
    "    assert P0.shape[0] == P0.shape[1], 'P0 is non-square'\n",
    "    assert F.shape[0] == F.shape[1], 'F is non-square'\n",
    "    assert P0.shape[0] == F.shape[0], 'P0 does not match dimension of F'\n",
    "    assert G.shape[0] == x0.shape[0], 'G does not match dimension of xo or F'\n",
    "    assert Q.shape[0] == Q.shape[1], 'Q must be square'\n",
    "    assert Q.shape[0] == G.shape[1], 'Q does not match dimension of G'\n",
    "    assert H.shape[1] == x0.shape[0], 'H and Xsize do not match'\n",
    "    assert R.shape[0] == R.shape[1], 'R must be square'      \n",
    "    assert R.shape[0] == H.shape[0], 'R must match Zsize of H'\n",
    "\n",
    "    # define a few parameters for output matrix dimension specification\n",
    "    Xsize = P0.shape[0]\n",
    "    Zsize = H.shape[0]\n",
    "    \n",
    "   # fix up output matricies\n",
    "    W = np.zeros((t_steps, Xsize * Zsize))\n",
    "    Pest = np.zeros((t_steps, Xsize * Xsize))\n",
    "    Ppred = np.zeros((t_steps, Xsize * Xsize))\n",
    "    S = np.zeros((t_steps, Zsize * Zsize))\n",
    "    \n",
    "    # initial value\n",
    "    lPest = P0\n",
    "    \n",
    "   # ready to go !\n",
    "    for i in range(1, t_steps): \n",
    "        # first the actual calculation in local variables\n",
    "        lPpred = F @ lPest @ F.T + G @ Q @ G.T\n",
    "        lS = H @ lPpred @ H.T + R\n",
    "        lW = lPpred @ H.T @ np.linalg.inv(lS) \n",
    "        lPest = lPpred - lW @ lS @ lW.T\n",
    "        # then record the results in columns of output states\n",
    "        Pest[i, :] = lPest.reshape(1, Xsize*Xsize)\n",
    "        Ppred[i, :] = lPpred.reshape(1, Xsize*Xsize)\n",
    "        W[i, :] = lW.reshape(1, Xsize*Zsize)\n",
    "        S[i, :]= lS.reshape(1, Zsize*Zsize)\n",
    "        \n",
    "    return W, Pest, Ppred, S"
   ]
  },
  {
   "cell_type": "code",
   "execution_count": 12,
   "metadata": {},
   "outputs": [],
   "source": [
    "def xestim(F: np.ndarray, G:np.ndarray, H:np.ndarray, Q:np.ndarray, R:np.ndarray, x0:np.ndarray, P0:np.ndarray, z:np.ndarray) -> Tuple[np.ndarray, np.ndarray, np.ndarray]:\n",
    "    '''\n",
    "    A basic linear Kalman filter. Calls COVARS for gain history.\n",
    "    \n",
    "    Args:\n",
    "        F (numpy.ndarray):  Xsize*Xsize state transition matrix\n",
    "        G (numpy.ndarray):  Xsize*Vsize state noise transition matrix\n",
    "        H (numpy.ndarray):  Zsize*Xsize observation matrix\n",
    "        Q (numpy.ndarray):  Vsize*Vsize process noise covariance matrix\n",
    "        R (numpy.ndarray):  Zsize*Zsize observation noise covariance matrix\n",
    "        x0 (numpy.ndarray): Xsize*1 initial state vector \n",
    "        P0 (numpy.ndarray): Xsize*Xsize initial state covariance\n",
    "        z (numpy.ndarray):  Zsize*t_steps observation sequence to be filtered\n",
    "        \n",
    "    Returns:\n",
    "        xest (numpy.ndarray):  Xsize*t_steps estimated state time history\n",
    "        xpred (numpy.ndarray): Xsize*t_steps predicted state time history\n",
    "        innov (numpy.ndarray): Zsize*t_steps innovation time history\n",
    "    ''' \n",
    "\n",
    "    # First check all matrix dimensions\n",
    "    assert F.shape[0] == F.shape[1], 'F is non-square'\n",
    "    assert x0.shape[0] == F.shape[0], 'x0 does not match dimension of F'\n",
    "    assert G.shape[0] == x0.shape[0], 'G does not match dimension of xo or F'\n",
    "    assert Q.shape[0] == Q.shape[1], 'Q must be square'\n",
    "    assert Q.shape[0] == G.shape[1], 'Q does not match dimension of G'\n",
    "    assert H.shape[1] == x0.shape[0], 'H and Xsize do not match'\n",
    "    assert R.shape[0] == R.shape[1], 'R must be square'      \n",
    "    assert R.shape[0] == H.shape[0], 'R must match Zsize of H'\n",
    "    assert P0.shape[0] == P0.shape[1], 'P0 is non-square'\n",
    "    assert P0.shape[0] == xo.shape[0], 'P0 must have dimensions of x0 (Xsize)'\n",
    "    assert z.shape[0] == H.shape[0], 'Observation Sequence must have Zsize rows'\n",
    "        \n",
    "    # define a few parameters for output matrix dimension specification\n",
    "    Xsize = P0.shape[0]\n",
    "    Zsize = H.shape[0]\n",
    "    t_steps = z.shape[1]\n",
    "    \n",
    "    # fix up output matricies\n",
    "    xest = np.zeros((Xsize, t_steps))\n",
    "    xpred = np.zeros((Xsize, t_steps))\n",
    "    innov = np.zeros((Zsize, t_steps))\n",
    "    \n",
    "   # compute all the neccesary gain matricies a priori\n",
    "    W = covars(F,G,H,Q,R,P0,t_steps)[0]\n",
    "    \n",
    "    # initial prediction and estimate (done seperately because of X0)\n",
    "    lW = W[1,:].reshape(Xsize,Zsize)\n",
    "    xpred[:,1, None] = F @ x0\n",
    "    innov[:,1, None] = z[:,1] - H @ xpred[:,1]\n",
    "    xest[:,1] = xpred[:,1] + lW @ innov[:,1]\n",
    "    \n",
    "    # now generate all the remaining estimates\n",
    "    for i in range(2, t_steps):\n",
    "        xpred[:,i] = F @ xest[:,i-1]\n",
    "        innov[:,i] = z[:,i] - H @ xpred[:,i]\n",
    "        lW = W[i,:].reshape(Xsize,Zsize)\n",
    "        xest[:,i] = xpred[:,i] + lW @ innov[:,i]\n",
    "        \n",
    "    return xest,xpred,innov"
   ]
  },
  {
   "cell_type": "code",
   "execution_count": 10,
   "metadata": {},
   "outputs": [],
   "source": [
    "# observation model\n",
    "H = np.array([[1, 0]])\n",
    "\n",
    "# continuous time noise variance, must be square\n",
    "Q = np.array([[0.01]]) \n",
    "\n",
    "# observation noise variance, must be square\n",
    "R = np.array([[1]])\n",
    "\n",
    "# initial conditions\n",
    "x0 = np.array([[0]\n",
    "            ,[0]])\n",
    "\n",
    "# sample period\n",
    "dt = 1.0\n",
    "\n",
    "# number of time-steps to simulate\n",
    "t_steps = 500\n",
    "\n",
    "time = range(t_steps+1)\n",
    "\n",
    "#Transform a continuous to a discrete state-space system.\n",
    "F = np.array([[1, dt]\n",
    "            , [0, 1]])\n",
    "\n",
    "G = np.array([[dt**2/2]\n",
    "            , [dt]])\n",
    "\n",
    "# assumes run_sim has been run at least once\n",
    "Q = Q * 10\n",
    "R = R * 10\n",
    "\n",
    "#initial covariance required, P0 has to be of the same dimension as F\n",
    "P0 = np.ones((2,2)) * 10 * Q \n",
    "x0 = np.array([[0]\n",
    "             , [0]])"
   ]
  },
  {
   "cell_type": "code",
   "execution_count": 19,
   "metadata": {},
   "outputs": [
    {
     "ename": "NameError",
     "evalue": "name 'Refactor_simulate' is not defined",
     "output_type": "error",
     "traceback": [
      "\u001b[1;31m---------------------------------------------------------------------------\u001b[0m",
      "\u001b[1;31mNameError\u001b[0m                                 Traceback (most recent call last)",
      "\u001b[1;32m<ipython-input-19-9a5fade9530f>\u001b[0m in \u001b[0;36m<module>\u001b[1;34m\u001b[0m\n\u001b[1;32m----> 1\u001b[1;33m \u001b[0mz\u001b[0m\u001b[1;33m,\u001b[0m \u001b[0mx\u001b[0m \u001b[1;33m=\u001b[0m \u001b[0mRefactor_simulate\u001b[0m\u001b[1;33m.\u001b[0m\u001b[0msimulate_dta\u001b[0m\u001b[1;33m.\u001b[0m\u001b[0msimulate\u001b[0m\u001b[1;33m(\u001b[0m\u001b[1;33m)\u001b[0m\u001b[1;33m\u001b[0m\u001b[1;33m\u001b[0m\u001b[0m\n\u001b[0m",
      "\u001b[1;31mNameError\u001b[0m: name 'Refactor_simulate' is not defined"
     ]
    }
   ],
   "source": [
    "z, x = simulate_dta.simulate()"
   ]
  },
  {
   "cell_type": "code",
   "execution_count": 11,
   "metadata": {},
   "outputs": [],
   "source": [
    "W, Pest, Ppred, S = covars(F,G,H,Q,R,P0,t_steps)"
   ]
  },
  {
   "cell_type": "code",
   "execution_count": 13,
   "metadata": {},
   "outputs": [
    {
     "ename": "NameError",
     "evalue": "name 'z' is not defined",
     "output_type": "error",
     "traceback": [
      "\u001b[1;31m---------------------------------------------------------------------------\u001b[0m",
      "\u001b[1;31mNameError\u001b[0m                                 Traceback (most recent call last)",
      "\u001b[1;32m<ipython-input-13-7dbc474b1643>\u001b[0m in \u001b[0;36m<module>\u001b[1;34m\u001b[0m\n\u001b[1;32m----> 1\u001b[1;33m \u001b[0mxest\u001b[0m\u001b[1;33m,\u001b[0m \u001b[0mxpred\u001b[0m\u001b[1;33m,\u001b[0m \u001b[0mxinnov\u001b[0m \u001b[1;33m=\u001b[0m \u001b[0mxestim\u001b[0m\u001b[1;33m(\u001b[0m\u001b[0mF\u001b[0m\u001b[1;33m,\u001b[0m\u001b[0mG\u001b[0m\u001b[1;33m,\u001b[0m\u001b[0mH\u001b[0m\u001b[1;33m,\u001b[0m\u001b[0mQ\u001b[0m\u001b[1;33m,\u001b[0m\u001b[0mR\u001b[0m\u001b[1;33m,\u001b[0m\u001b[0mx0\u001b[0m\u001b[1;33m,\u001b[0m\u001b[0mP0\u001b[0m\u001b[1;33m,\u001b[0m\u001b[0mz\u001b[0m\u001b[1;33m)\u001b[0m\u001b[1;33m\u001b[0m\u001b[1;33m\u001b[0m\u001b[0m\n\u001b[0m",
      "\u001b[1;31mNameError\u001b[0m: name 'z' is not defined"
     ]
    }
   ],
   "source": [
    "xest, xpred, xinnov = xestim(F,G,H,Q,R,x0,P0,z)"
   ]
  },
  {
   "cell_type": "markdown",
   "metadata": {},
   "source": [
    "## Class implementation"
   ]
  },
  {
   "cell_type": "code",
   "execution_count": null,
   "metadata": {},
   "outputs": [],
   "source": [
    "    F, G, H, Q, R, x0, t_steps   \n",
    "    F (numpy.ndarray):  Xsize*Xsize state transition matrix\n",
    "        G (numpy.ndarray):  Xsize*Vsize state noise transition matrix\n",
    "        H (numpy.ndarray):  Zsize*Xsize observation matrix\n",
    "        Q (numpy.ndarray):  Vsize*Vsize process noise covariance matrix\n",
    "        R (numpy.ndarray):  Zsize*Zsize observation noise covariance matrix\n",
    "        x0 (numpy.ndarray): Xsize*1 initial state vector \n",
    "        t_steps (int): number of time-steps to be simulated"
   ]
  },
  {
   "cell_type": "code",
   "execution_count": 136,
   "metadata": {},
   "outputs": [],
   "source": [
    "class Diagnostics_plots():\n",
    "    def __init__():\n",
    "        pass\n",
    "    \n",
    "    def x_true(self, x):\n",
    "        '''\n",
    "        Plots simulated true observations of a particle\n",
    "        '''\n",
    "        plt.title('True Position')\n",
    "        plt.xlabel('Time (Seconds)')\n",
    "        plt.ylabel('Position (Meters)')\n",
    "        plt.plot(range(self.t_steps+1), x[0,:])\n",
    "        return plt.show()"
   ]
  },
  {
   "cell_type": "code",
   "execution_count": 137,
   "metadata": {},
   "outputs": [],
   "source": [
    "class Simulate(Diagnostics_plots):\n",
    "    '''\n",
    "        Class computes true state-space history\n",
    "        and true observations from a discrete-time\n",
    "        model with no input. For use with a Kalman Filter.\n",
    "    '''\n",
    "    \n",
    "    def __init__(self, F_init, G_init, H_init, Q_init, R_init, x0_init, t_steps_init):\n",
    "        '''\n",
    "        Initialise the class\n",
    "        Args:\n",
    "            F (numpy.ndarray):  Xsize*Xsize state transition matrix\n",
    "            G (numpy.ndarray):  Xsize*Vsize state noise transition matrix\n",
    "            H (numpy.ndarray):  Zsize*Xsize observation matrix\n",
    "            Q (numpy.ndarray):  Vsize*Vsize process noise covariance matrix\n",
    "            R (numpy.ndarray):  Zsize*Zsize observation noise covariance matrix\n",
    "            x0 (numpy.ndarray): Xsize*1 initial state vector \n",
    "            t_steps (int): number of time-steps to be simulated\n",
    "\n",
    "        Returns:\n",
    "            z (numpy.ndarray): Zsize*t_steps Observation time history\n",
    "            x (numpy.ndarray): Xsize*t_steps true state time history\n",
    "        '''\n",
    "        self.F = F_init\n",
    "        self.G = G_init\n",
    "        self.H = H_init\n",
    "        self.Q = Q_init\n",
    "        self.R = R_init\n",
    "        self.x0 = x0_init\n",
    "        self.t_steps = t_steps_init       \n",
    "    \n",
    "    def _validate_data(self):\n",
    "        '''Validate input data.'''\n",
    "        assert self.F.shape[0] == self.F.shape[1], 'F is non-square'\n",
    "        assert self.x0.shape[0] == self.F.shape[0], 'x0 does not match dimension of F'\n",
    "        assert self.G.shape[0] == self.x0.shape[0], 'G does not match dimension of xo or F'\n",
    "        assert self.Q.shape[0] == self.Q.shape[1], 'Q must be square'\n",
    "        assert self.Q.shape[0] == self.G.shape[1], 'Q does not match dimension of G'\n",
    "        assert self.H.shape[1] == self.x0.shape[0], 'H and Xsize do not match'\n",
    "        assert self.R.shape[0] == self.R.shape[1], 'R must be square'      \n",
    "        assert self.R.shape[0] == self.H.shape[0], 'R must match Zsize of H'\n",
    "        return F, G, H, Q, R, x0\n",
    "        \n",
    "    def simulate(self):\n",
    "        '''Purpose is to simulate the true position and velosity of a particle'''     \n",
    "        \n",
    "        # validate data first\n",
    "        F, G, H, Q, R, x0 = self._validate_data()\n",
    "        \n",
    "        # define a few parameters for output matrix dimension specification\n",
    "        self.Xsize = x0.shape[0]\n",
    "        self.Zsize = H.shape[0]\n",
    "        self.Vsize = G.shape[1]\n",
    "        \n",
    "        # fix up output matricies   \n",
    "        x = np.zeros((self.Xsize, self.t_steps+1))\n",
    "        z = np.zeros((self.Zsize, self.t_steps+1))\n",
    "\n",
    "        # get some gaussian noise - rand('normal')\n",
    "        v = sqrt(Q) * np.random.randn(self.Vsize, self.t_steps+1)\n",
    "        w = sqrt(R) * np.random.randn(self.Zsize, self.t_steps+1)\n",
    "    \n",
    "        # initial value\n",
    "        self.x0 = x[:,0].reshape(2,1)\n",
    "        \n",
    "        # now generate all the remaining states\n",
    "        for i in range(self.t_steps):\n",
    "            x[:, i+1] = F @ x[:,i] + G @ v[:,i] #Assuming no control inputs B and u\n",
    "\n",
    "        # then all the observations\n",
    "        for i in range(1, t_steps+1):\n",
    "            z[:, i] = H @ x[:,i] + w[:, i]\n",
    "        \n",
    "        return z, x\n",
    "    \n",
    "    def __str__(self):\n",
    "        return 'Simulate data.'\n",
    "        \n",
    "#     def chart(self):"
   ]
  },
  {
   "cell_type": "code",
   "execution_count": 138,
   "metadata": {},
   "outputs": [
    {
     "name": "stdout",
     "output_type": "stream",
     "text": [
      "Simulate data.\n"
     ]
    }
   ],
   "source": [
    "simulate_dta = Simulate(F, G, H, Q, R, x0, t_steps)\n",
    "print(simulate_dta)"
   ]
  },
  {
   "cell_type": "code",
   "execution_count": 139,
   "metadata": {},
   "outputs": [
    {
     "name": "stdout",
     "output_type": "stream",
     "text": [
      "[[1. 1.]\n",
      " [0. 1.]]\n"
     ]
    }
   ],
   "source": [
    "F_c, G_c, H_c, Q_c, R_c, x0_c = simulate_dta._validate_data()\n",
    "print(F_c)"
   ]
  },
  {
   "cell_type": "code",
   "execution_count": 140,
   "metadata": {},
   "outputs": [],
   "source": [
    "z, x = simulate_dta.simulate()"
   ]
  },
  {
   "cell_type": "code",
   "execution_count": 141,
   "metadata": {},
   "outputs": [],
   "source": [
    "simulate_dta.x_true(x)"
   ]
  }
 ],
 "metadata": {
  "kernelspec": {
   "display_name": "Python 3",
   "language": "python",
   "name": "python3"
  },
  "language_info": {
   "codemirror_mode": {
    "name": "ipython",
    "version": 3
   },
   "file_extension": ".py",
   "mimetype": "text/x-python",
   "name": "python",
   "nbconvert_exporter": "python",
   "pygments_lexer": "ipython3",
   "version": "3.7.7"
  },
  "toc": {
   "base_numbering": 1,
   "nav_menu": {},
   "number_sections": true,
   "sideBar": true,
   "skip_h1_title": false,
   "title_cell": "Table of Contents",
   "title_sidebar": "Contents",
   "toc_cell": false,
   "toc_position": {},
   "toc_section_display": true,
   "toc_window_display": false
  }
 },
 "nbformat": 4,
 "nbformat_minor": 4
}
